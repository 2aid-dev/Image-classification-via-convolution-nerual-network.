{
  "nbformat": 4,
  "nbformat_minor": 0,
  "metadata": {
    "colab": {
      "provenance": []
    },
    "kernelspec": {
      "name": "python3",
      "display_name": "Python 3"
    },
    "language_info": {
      "name": "python"
    }
  },
  "cells": [
    {
      "cell_type": "code",
      "execution_count": null,
      "metadata": {
        "id": "SyCSPPbw8T7x"
      },
      "outputs": [],
      "source": [
        "import torch\n",
        "import torchvision\n",
        "from torch.utils.data import DataLoader\n",
        "from torchvision import transforms\n",
        "from torchvision.models import resnet18\n",
        "from torch.optim.lr_scheduler import StepLR\n",
        "import matplotlib.pyplot as plt\n",
        "import numpy as np\n",
        "\n",
        "# Set random seed for reproducibility\n",
        "torch.manual_seed(42)\n",
        "\n",
        "# Define transforms and datasets\n",
        "train_transform = transforms.Compose([\n",
        "    transforms.RandomResizedCrop(224),\n",
        "    transforms.RandomHorizontalFlip(),\n",
        "    transforms.ColorJitter(brightness=0.2, contrast=0.2, saturation=0.2, hue=0.1),\n",
        "    transforms.RandomRotation(20),\n",
        "    transforms.ToTensor(),\n",
        "    transforms.Normalize(mean=[0.485, 0.456, 0.406], std=[0.229, 0.224, 0.225])\n",
        "])\n",
        "\n",
        "test_transform = transforms.Compose([\n",
        "    transforms.Resize([224, 224]),\n",
        "    transforms.ToTensor(),\n",
        "    transforms.Normalize(mean=[0.485, 0.456, 0.406], std=[0.229, 0.224, 0.225])\n",
        "])\n",
        "\n",
        "train_dataset = torchvision.datasets.Flowers102(root='./dataset', split='train', transform=train_transform, download=True)\n",
        "test_dataset = torchvision.datasets.Flowers102(root='./dataset', split='val', transform=test_transform, download=True)\n",
        "\n",
        "train_dataloader = DataLoader(train_dataset, batch_size=64, shuffle=True, drop_last=True)\n",
        "test_dataloader = DataLoader(test_dataset, batch_size=64, shuffle=False, drop_last=False)\n",
        "\n",
        "# Function to display images with labels\n",
        "def show_images(dataset, num_images=10):\n",
        "    # Set up a figure to plot images\n",
        "    fig, axes = plt.subplots(1, num_images, figsize=(20, 4))\n",
        "    for i in range(num_images):\n",
        "        # Get a random index\n",
        "        idx = np.random.randint(len(dataset))\n",
        "        image, label = dataset[idx]\n",
        "        # Denormalize the image\n",
        "        image = image.numpy().transpose((1, 2, 0))\n",
        "        mean = np.array([0.485, 0.456, 0.406])\n",
        "        std = np.array([0.229, 0.224, 0.225])\n",
        "        image = std * image + mean\n",
        "        image = np.clip(image, 0, 1)\n",
        "        # Plot the image\n",
        "        axes[i].imshow(image)\n",
        "        axes[i].set_title(f\"Label: {label}\")\n",
        "        axes[i].axis('off')\n",
        "    plt.show()\n",
        "\n",
        "# Show 10 random images with labels from the training dataset\n",
        "show_images(train_dataset)\n",
        "\n"
      ]
    }
  ]
}